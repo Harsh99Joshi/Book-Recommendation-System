{
 "cells": [
  {
   "cell_type": "code",
   "execution_count": 4,
   "id": "96c9bc61",
   "metadata": {},
   "outputs": [],
   "source": [
    "import numpy as np\n",
    "import pyspark as ps\n",
    "from pyspark.ml.evaluation import RegressionEvaluator\n",
    "from pyspark.ml.tuning import CrossValidator, ParamGridBuilder\n",
    "from pyspark.ml import Pipeline\n",
    "from pyspark.ml.recommendation import ALS\n",
    "from pyspark.sql.functions import udf, col, when\n",
    "from pyspark.sql import SQLContext\n",
    "from pyspark.sql import Row"
   ]
  },
  {
   "cell_type": "code",
   "execution_count": 5,
   "id": "2c5c0bec",
   "metadata": {},
   "outputs": [],
   "source": [
    "from IPython.display import Image\n",
    "from IPython.display import display"
   ]
  },
  {
   "cell_type": "code",
   "execution_count": 6,
   "id": "c15e5211",
   "metadata": {},
   "outputs": [
    {
     "name": "stderr",
     "output_type": "stream",
     "text": [
      "C:\\Users\\theba\\anaconda3\\lib\\site-packages\\pyspark\\sql\\context.py:113: FutureWarning: Deprecated in 3.0.0. Use SparkSession.builder.getOrCreate() instead.\n",
      "  warnings.warn(\n"
     ]
    }
   ],
   "source": [
    "#creating spark session\n",
    "spark = ps.sql.SparkSession.builder.master(\"local\").appName(\"Book Recommendation System\").getOrCreate()\n",
    "sc = spark.sparkContext\n",
    "sqlContext = SQLContext(sc)"
   ]
  },
  {
   "cell_type": "code",
   "execution_count": 8,
   "id": "c599d14d",
   "metadata": {},
   "outputs": [
    {
     "name": "stdout",
     "output_type": "stream",
     "text": [
      "root\n",
      " |-- book_id: integer (nullable = true)\n",
      " |-- user_id: integer (nullable = true)\n",
      " |-- rating: integer (nullable = true)\n",
      "\n"
     ]
    }
   ],
   "source": [
    "#load the ratings data\n",
    "ratings_df = spark.read.csv('dataset/ratings.csv', header = True, inferSchema = True)\n",
    "ratings_df.printSchema()"
   ]
  },
  {
   "cell_type": "code",
   "execution_count": 11,
   "id": "75d5ef6f",
   "metadata": {},
   "outputs": [
    {
     "name": "stdout",
     "output_type": "stream",
     "text": [
      "+-------+-------+------+\n",
      "|book_id|user_id|rating|\n",
      "+-------+-------+------+\n",
      "|      1|    314|     5|\n",
      "|      1|    439|     3|\n",
      "|      1|    588|     5|\n",
      "|      1|   1169|     4|\n",
      "|      1|   1185|     4|\n",
      "|      1|   2077|     4|\n",
      "|      1|   2487|     4|\n",
      "|      1|   2900|     5|\n",
      "|      1|   3662|     4|\n",
      "|      1|   3922|     5|\n",
      "|      1|   5379|     5|\n",
      "|      1|   5461|     3|\n",
      "|      1|   5885|     5|\n",
      "|      1|   6630|     5|\n",
      "|      1|   7563|     3|\n",
      "|      1|   9246|     1|\n",
      "|      1|  10140|     4|\n",
      "|      1|  10146|     5|\n",
      "|      1|  10246|     4|\n",
      "|      1|  10335|     4|\n",
      "+-------+-------+------+\n",
      "only showing top 20 rows\n",
      "\n"
     ]
    }
   ],
   "source": [
    "ratings_df.show()"
   ]
  },
  {
   "cell_type": "code",
   "execution_count": 14,
   "id": "598c7afd",
   "metadata": {},
   "outputs": [
    {
     "name": "stdout",
     "output_type": "stream",
     "text": [
      "root\n",
      " |-- id: integer (nullable = true)\n",
      " |-- book_id: integer (nullable = true)\n",
      " |-- best_book_id: integer (nullable = true)\n",
      " |-- work_id: integer (nullable = true)\n",
      " |-- books_count: integer (nullable = true)\n",
      " |-- isbn: string (nullable = true)\n",
      " |-- isbn13: double (nullable = true)\n",
      " |-- authors: string (nullable = true)\n",
      " |-- original_publication_year: double (nullable = true)\n",
      " |-- original_title: string (nullable = true)\n",
      " |-- title: string (nullable = true)\n",
      " |-- language_code: string (nullable = true)\n",
      " |-- average_rating: string (nullable = true)\n",
      " |-- ratings_count: string (nullable = true)\n",
      " |-- work_ratings_count: string (nullable = true)\n",
      " |-- work_text_reviews_count: string (nullable = true)\n",
      " |-- ratings_1: double (nullable = true)\n",
      " |-- ratings_2: integer (nullable = true)\n",
      " |-- ratings_3: integer (nullable = true)\n",
      " |-- ratings_4: integer (nullable = true)\n",
      " |-- ratings_5: integer (nullable = true)\n",
      " |-- image_url: string (nullable = true)\n",
      " |-- small_image_url: string (nullable = true)\n",
      "\n"
     ]
    }
   ],
   "source": [
    "#load the books data\n",
    "books_df = spark.read.csv('dataset/books.csv', header = True, inferSchema = True)\n",
    "books_df.printSchema()"
   ]
  },
  {
   "cell_type": "code",
   "execution_count": 16,
   "id": "da0a0657",
   "metadata": {},
   "outputs": [
    {
     "name": "stdout",
     "output_type": "stream",
     "text": [
      "+---+-------+------------+-------+-----------+---------+----------------+--------------------+-------------------------+--------------------+--------------------+-------------+--------------+-------------+------------------+-----------------------+---------+---------+---------+---------+---------+--------------------+--------------------+\n",
      "| id|book_id|best_book_id|work_id|books_count|     isbn|          isbn13|             authors|original_publication_year|      original_title|               title|language_code|average_rating|ratings_count|work_ratings_count|work_text_reviews_count|ratings_1|ratings_2|ratings_3|ratings_4|ratings_5|           image_url|     small_image_url|\n",
      "+---+-------+------------+-------+-----------+---------+----------------+--------------------+-------------------------+--------------------+--------------------+-------------+--------------+-------------+------------------+-----------------------+---------+---------+---------+---------+---------+--------------------+--------------------+\n",
      "|  1|2767052|     2767052|2792775|        272|439023483|9.78043902348E12|     Suzanne Collins|                   2008.0|    The Hunger Games|The Hunger Games ...|          eng|          4.34|      4780653|           4942365|                 155254|  66715.0|   127936|   560092|  1481305|  2706317|https://images.gr...|https://images.gr...|\n",
      "|  2|      3|           3|4640799|        491|439554934|9.78043955493E12|J.K. Rowling, Mar...|                   1997.0|Harry Potter and ...|Harry Potter and ...|          eng|          4.44|      4602479|           4800065|                  75867|  75504.0|   101676|   455024|  1156318|  3011543|https://images.gr...|https://images.gr...|\n",
      "|  3|  41865|       41865|3212258|        226|316015849|9.78031601584E12|     Stephenie Meyer|                   2005.0|            Twilight|Twilight (Twiligh...|        en-US|          3.57|      3866839|           3916824|                  95009| 456191.0|   436802|   793319|   875073|  1355439|https://images.gr...|https://images.gr...|\n",
      "|  4|   2657|        2657|3275794|        487| 61120081|9.78006112008E12|          Harper Lee|                   1960.0|To Kill a Mocking...|To Kill a Mocking...|          eng|          4.25|      3198671|           3340896|                  72586|  60427.0|   117415|   446835|  1001952|  1714267|https://images.gr...|https://images.gr...|\n",
      "|  5|   4671|        4671| 245494|       1356|743273567|9.78074327356E12| F. Scott Fitzgerald|                   1925.0|    The Great Gatsby|    The Great Gatsby|          eng|          3.89|      2683664|           2773745|                  51992|  86236.0|   197621|   606158|   936012|   947718|https://images.gr...|https://images.gr...|\n",
      "+---+-------+------------+-------+-----------+---------+----------------+--------------------+-------------------------+--------------------+--------------------+-------------+--------------+-------------+------------------+-----------------------+---------+---------+---------+---------+---------+--------------------+--------------------+\n",
      "only showing top 5 rows\n",
      "\n"
     ]
    }
   ],
   "source": [
    "books_df.show(5)"
   ]
  },
  {
   "cell_type": "code",
   "execution_count": 17,
   "id": "120488e8",
   "metadata": {},
   "outputs": [],
   "source": [
    "#splitting data into training and validation sets\n",
    "training_df, validation_df = ratings_df.randomSplit([0.8, 0.2])"
   ]
  },
  {
   "cell_type": "code",
   "execution_count": 18,
   "id": "18abd3ae",
   "metadata": {},
   "outputs": [],
   "source": [
    "#Defining random values of Hyperparameters\n",
    "iterations = 10\n",
    "reg_param = 0.1\n",
    "rank = 4\n",
    "errors = []\n",
    "err = 0"
   ]
  },
  {
   "cell_type": "code",
   "execution_count": 21,
   "id": "6f8be710",
   "metadata": {},
   "outputs": [],
   "source": [
    "#Setting up the ALS algorithm\n",
    "#Using CrossValidator to find best hyperparameters\n",
    "als = ALS(maxIter = iterations, regParam = reg_param, rank = rank, userCol = \"user_id\", itemCol = \"book_id\", ratingCol = \"rating\")\n",
    "paramGrid = ParamGridBuilder().addGrid(als.regParam, [0.1, 0.01, 0.18]).addGrid(als.rank, range(4, 10)).build()\n",
    "\n",
    "\n",
    "#model = als.fit(training_df)\n",
    "#predictions = model.transform(validation_df)\n",
    "#new_preds = predictions.filter(col('prediction')!=np.nan)\n",
    "evaluator = RegressionEvaluator(metricName = \"rmse\", labelCol = \"rating\", predictionCol = \"prediction\")\n",
    "crossVal = CrossValidator(estimator = als, estimatorParamMaps = paramGrid, evaluator = evaluator, numFolds = 5)\n",
    "cvModel = crossVal.fit(training_df)\n",
    "#print(\"Root Mean Squared Error Value = \" + str(rmse))"
   ]
  },
  {
   "cell_type": "code",
   "execution_count": 25,
   "id": "55b34453",
   "metadata": {},
   "outputs": [
    {
     "name": "stdout",
     "output_type": "stream",
     "text": [
      "Best Rank: 4\n",
      "Best Regularization Parameter: 0.1\n"
     ]
    }
   ],
   "source": [
    "# Get best model from CrossValidator\n",
    "best_model = cvModel.bestModel\n",
    "\n",
    "# Extract best parameters\n",
    "best_rank = best_model.rank\n",
    "best_reg_param = best_model._java_obj.parent().getRegParam()\n",
    "\n",
    "print(\"Best Rank:\", best_rank)\n",
    "print(\"Best Regularization Parameter:\", best_reg_param)\n"
   ]
  },
  {
   "cell_type": "code",
   "execution_count": 28,
   "id": "f82cd2e4",
   "metadata": {},
   "outputs": [
    {
     "name": "stdout",
     "output_type": "stream",
     "text": [
      "Root Mean Squared Error Value = 0.8900706543806879\n"
     ]
    }
   ],
   "source": [
    "cvModel_pred = cvModel.transform(validation_df)\n",
    "cvModel_pred = cvModel_pred.filter(col('prediction')!=np.nan)\n",
    "rmse = evaluator.evaluate(cvModel_pred)\n",
    "print(\"Root Mean Squared Error Value = \" + str(rmse))\n"
   ]
  },
  {
   "cell_type": "code",
   "execution_count": 29,
   "id": "6727e541",
   "metadata": {},
   "outputs": [
    {
     "name": "stdout",
     "output_type": "stream",
     "text": [
      "+-------+-------+------+----------+\n",
      "|book_id|user_id|rating|prediction|\n",
      "+-------+-------+------+----------+\n",
      "|      1|   5461|     3|  4.304631|\n",
      "|      1|  10610|     5|  4.289937|\n",
      "|      1|  11854|     4| 3.9292023|\n",
      "|      1|  12471|     5| 3.9300416|\n",
      "|      1|  17663|     5|  4.874737|\n",
      "|      1|  21713|     5| 4.5148163|\n",
      "|      1|  22602|     4| 3.6862981|\n",
      "|      1|  23576|     4| 3.6700437|\n",
      "|      1|  23612|     4| 3.9629426|\n",
      "|      1|  24326|     5| 4.0609474|\n",
      "+-------+-------+------+----------+\n",
      "only showing top 10 rows\n",
      "\n"
     ]
    }
   ],
   "source": [
    "predictions = cvModel.transform(validation_df)\n",
    "predictions.show(n=10)"
   ]
  },
  {
   "cell_type": "code",
   "execution_count": 32,
   "id": "34da3b6b",
   "metadata": {},
   "outputs": [
    {
     "name": "stdout",
     "output_type": "stream",
     "text": [
      "+-------+--------------------+----------+\n",
      "|user_id|               title|prediction|\n",
      "+-------+--------------------+----------+\n",
      "|  32592|Harry Potter and ...| 3.2834768|\n",
      "|  32592|The Hitchhiker's ...|  4.148359|\n",
      "|  32592|I'm a Stranger He...|  4.260467|\n",
      "|  32592|The Lost Continen...| 3.6175382|\n",
      "|  35982|J.R.R. Tolkien 4-...| 3.6911342|\n",
      "+-------+--------------------+----------+\n",
      "only showing top 5 rows\n",
      "\n"
     ]
    }
   ],
   "source": [
    "#predicting the ratings that a user would give to a certain \"book\"\n",
    "predictions.join(books_df, \"book_id\").select(\"user_id\",\"title\",\"prediction\").show(5)"
   ]
  },
  {
   "cell_type": "code",
   "execution_count": 40,
   "id": "16372eee",
   "metadata": {},
   "outputs": [
    {
     "name": "stdout",
     "output_type": "stream",
     "text": [
      "+-------+--------------------+----------+--------------------+\n",
      "|user_id|               title|prediction|           image_url|\n",
      "+-------+--------------------+----------+--------------------+\n",
      "|  35982|The Language Inst...| 2.6682665|https://s.gr-asse...|\n",
      "|  35982|  Great Expectations| 2.5731409|https://images.gr...|\n",
      "|  35982|Veronika Decides ...| 3.6128395|https://s.gr-asse...|\n",
      "|  35982|The Portrait of a...| 3.6596348|https://images.gr...|\n",
      "|  35982|J.R.R. Tolkien 4-...| 3.6911342|https://images.gr...|\n",
      "+-------+--------------------+----------+--------------------+\n",
      "\n"
     ]
    }
   ],
   "source": [
    "#Predicting what book a certain user would like and what rating they would give\n",
    "user_one = predictions.filter(col(\"user_id\")==35982).join(books_df, \"book_id\").select(\"user_id\",\"title\",\"prediction\", \"image_url\")\n",
    "user_one.show()"
   ]
  },
  {
   "cell_type": "code",
   "execution_count": 41,
   "id": "3bfc35dc",
   "metadata": {},
   "outputs": [
    {
     "name": "stdout",
     "output_type": "stream",
     "text": [
      "The Language Instinct: How the Mind Creates Language\n"
     ]
    },
    {
     "data": {
      "text/html": [
       "<img src=\"https://s.gr-assets.com/assets/nophoto/book/111x148-bcc042a9c91a29c1d680899eff700a03.png\"/>"
      ],
      "text/plain": [
       "<IPython.core.display.Image object>"
      ]
     },
     "metadata": {},
     "output_type": "display_data"
    },
    {
     "name": "stdout",
     "output_type": "stream",
     "text": [
      "Great Expectations\n"
     ]
    },
    {
     "data": {
      "text/html": [
       "<img src=\"https://images.gr-assets.com/books/1327920219m/2623.jpg\"/>"
      ],
      "text/plain": [
       "<IPython.core.display.Image object>"
      ]
     },
     "metadata": {},
     "output_type": "display_data"
    },
    {
     "name": "stdout",
     "output_type": "stream",
     "text": [
      "Veronika Decides to Die\n"
     ]
    },
    {
     "data": {
      "text/html": [
       "<img src=\"https://s.gr-assets.com/assets/nophoto/book/111x148-bcc042a9c91a29c1d680899eff700a03.png\"/>"
      ],
      "text/plain": [
       "<IPython.core.display.Image object>"
      ]
     },
     "metadata": {},
     "output_type": "display_data"
    },
    {
     "name": "stdout",
     "output_type": "stream",
     "text": [
      "The Portrait of a Lady\n"
     ]
    },
    {
     "data": {
      "text/html": [
       "<img src=\"https://images.gr-assets.com/books/1502148606m/264.jpg\"/>"
      ],
      "text/plain": [
       "<IPython.core.display.Image object>"
      ]
     },
     "metadata": {},
     "output_type": "display_data"
    },
    {
     "name": "stdout",
     "output_type": "stream",
     "text": [
      "J.R.R. Tolkien 4-Book Boxed Set: The Hobbit and The Lord of the Rings\n"
     ]
    },
    {
     "data": {
      "text/html": [
       "<img src=\"https://images.gr-assets.com/books/1346072396m/30.jpg\"/>"
      ],
      "text/plain": [
       "<IPython.core.display.Image object>"
      ]
     },
     "metadata": {},
     "output_type": "display_data"
    }
   ],
   "source": [
    "#displaying the book images predicted for above user\n",
    "for book in user_one.take(10):\n",
    "    print(book.title)\n",
    "    display(Image(url=book.image_url))"
   ]
  },
  {
   "cell_type": "code",
   "execution_count": 47,
   "id": "e0e5d7cc",
   "metadata": {},
   "outputs": [
    {
     "name": "stdout",
     "output_type": "stream",
     "text": [
      "+-------+------------------------------+\n",
      "|user_id|book_id                       |\n",
      "+-------+------------------------------+\n",
      "|1      |[3753, 2636, 3628, 2840, 5207]|\n",
      "|2      |[4154, 1338, 2236, 3746, 4868]|\n",
      "|3      |[4868, 7537, 9076, 4336, 9008]|\n",
      "|4      |[3628, 5207, 1788, 6920, 6590]|\n",
      "|5      |[192, 6590, 862, 9516, 562]   |\n",
      "|6      |[9486, 2636, 3753, 5753, 7352]|\n",
      "|7      |[1788, 3628, 6590, 5580, 7455]|\n",
      "|8      |[4154, 1338, 4868, 6084, 2236]|\n",
      "|9      |[3628, 6590, 4868, 1788, 5580]|\n",
      "|10     |[2236, 6902, 7947, 9076, 1338]|\n",
      "+-------+------------------------------+\n",
      "only showing top 10 rows\n",
      "\n"
     ]
    }
   ],
   "source": [
    "model = cvModel.bestModel\n",
    "#Generate top 5 book recommendations for each user\n",
    "userRecommendations = model.recommendForAllUsers(5)\n",
    "userRecommendations.select(\"user_id\", \"recommendations.book_id\").show(10, False)\n"
   ]
  },
  {
   "cell_type": "code",
   "execution_count": 49,
   "id": "0a68c57d",
   "metadata": {},
   "outputs": [
    {
     "name": "stdout",
     "output_type": "stream",
     "text": [
      "+-------+-----------------------------------+\n",
      "|book_id|user_id                            |\n",
      "+-------+-----------------------------------+\n",
      "|1      |[50307, 43442, 49360, 26219, 50580]|\n",
      "|2      |[50307, 43442, 23662, 49360, 50580]|\n",
      "|3      |[24063, 41031, 21791, 31685, 50307]|\n",
      "|4      |[18663, 43442, 46126, 49360, 26219]|\n",
      "|5      |[43442, 18663, 47161, 46126, 21925]|\n",
      "|6      |[43442, 50307, 49360, 23662, 47161]|\n",
      "|7      |[43442, 47161, 23662, 49360, 42139]|\n",
      "|8      |[43442, 18663, 46126, 47161, 26219]|\n",
      "|9      |[24063, 50307, 31685, 3655, 22576] |\n",
      "|10     |[23662, 43442, 50307, 49360, 50580]|\n",
      "+-------+-----------------------------------+\n",
      "only showing top 10 rows\n",
      "\n"
     ]
    }
   ],
   "source": [
    "#Generate top 5 readers for each book\n",
    "bookRecommendations = model.recommendForAllItems(5)\n",
    "bookRecommendations.select(\"book_id\", \"recommendations.user_id\").show(10, False)"
   ]
  },
  {
   "cell_type": "code",
   "execution_count": 52,
   "id": "0d7491f5",
   "metadata": {},
   "outputs": [
    {
     "name": "stdout",
     "output_type": "stream",
     "text": [
      "+-------+------------------------------------------------------------+\n",
      "|user_id|book_id                                                     |\n",
      "+-------+------------------------------------------------------------+\n",
      "|32592  |[3753, 2840, 5207, 3628, 2636, 6920, 267, 4483, 1788, 8187] |\n",
      "|35982  |[1788, 3628, 6590, 5580, 4868, 9566, 4706, 7455, 6435, 5207]|\n",
      "|19984  |[8548, 7947, 4778, 1308, 6902, 9531, 422, 9569, 8187, 3753] |\n",
      "+-------+------------------------------------------------------------+\n",
      "\n"
     ]
    }
   ],
   "source": [
    "#Generate top 10 book recommendations for subset of users\n",
    "users = ratings_df.select(\"user_id\").distinct().limit(3);\n",
    "userSubsetRecommendations = model.recommendForUserSubset(users, 10)\n",
    "userSubsetRecommendations.select(\"user_id\", \"recommendations.book_id\").show(10, False)"
   ]
  },
  {
   "cell_type": "code",
   "execution_count": null,
   "id": "fc606025",
   "metadata": {},
   "outputs": [],
   "source": [
    "#Generate top 10 user recommendations for subset of books"
   ]
  },
  {
   "cell_type": "code",
   "execution_count": 54,
   "id": "7db53e13",
   "metadata": {},
   "outputs": [
    {
     "name": "stdout",
     "output_type": "stream",
     "text": [
      "+-------+---------------------------------------------------------------------+\n",
      "|book_id|user_id                                                              |\n",
      "+-------+---------------------------------------------------------------------+\n",
      "|471    |[23662, 43442, 50307, 49360, 31685, 38866, 50580, 46065, 7571, 37076]|\n",
      "|463    |[50307, 24063, 31685, 23662, 32300, 31764, 11548, 3655, 22576, 2404] |\n",
      "|148    |[23662, 43442, 49360, 50307, 50580, 7571, 13108, 38866, 51993, 26219]|\n",
      "+-------+---------------------------------------------------------------------+\n",
      "\n"
     ]
    }
   ],
   "source": [
    "books = ratings_df.select(\"book_id\").distinct().limit(3);\n",
    "bookSubsetRecommendations = model.recommendForItemSubset(books, 10)\n",
    "bookSubsetRecommendations.select(\"book_id\", \"recommendations.user_id\").show(10, False)"
   ]
  },
  {
   "cell_type": "code",
   "execution_count": null,
   "id": "9fb65035",
   "metadata": {},
   "outputs": [],
   "source": []
  }
 ],
 "metadata": {
  "kernelspec": {
   "display_name": "Python 3 (ipykernel)",
   "language": "python",
   "name": "python3"
  },
  "language_info": {
   "codemirror_mode": {
    "name": "ipython",
    "version": 3
   },
   "file_extension": ".py",
   "mimetype": "text/x-python",
   "name": "python",
   "nbconvert_exporter": "python",
   "pygments_lexer": "ipython3",
   "version": "3.9.13"
  }
 },
 "nbformat": 4,
 "nbformat_minor": 5
}
